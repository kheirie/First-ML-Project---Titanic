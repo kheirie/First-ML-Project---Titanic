{
 "cells": [
  {
   "cell_type": "code",
   "execution_count": 1,
   "metadata": {
    "_cell_guid": "df1fb79e-68e0-4ee1-af8d-3dd14a3d73ce",
    "_uuid": "83ccdc52-49b0-400b-9ef7-19065cb9d364"
   },
   "outputs": [],
   "source": [
    "# This Python 3 environment comes with many helpful analytics libraries installed\n",
    "# It is defined by the kaggle/python Docker image: https://github.com/kaggle/docker-python\n",
    "# For example, here's several helpful packages to load\n",
    "\n",
    "import numpy as np # linear algebra\n",
    "import pandas as pd # data processing, CSV file I/O (e.g. pd.read_c"
   ]
  },
  {
   "cell_type": "code",
   "execution_count": 2,
   "metadata": {
    "_cell_guid": "6ba64d42-05a5-40e6-b35e-382af367b346",
    "_uuid": "66a57719-40b4-4b6c-876c-0459081bb19e"
   },
   "outputs": [
    {
     "output_type": "stream",
     "name": "stdout",
     "text": [
      "Setup Complete\n"
     ]
    }
   ],
   "source": [
    "import pandas as pd\n",
    "pd.plotting.register_matplotlib_converters()\n",
    "import matplotlib.pyplot as plt\n",
    "%matplotlib inline\n",
    "import seaborn as sns\n",
    "print(\"Setup Complete\")"
   ]
  },
  {
   "cell_type": "code",
   "execution_count": 3,
   "metadata": {
    "_cell_guid": "dd4130a9-0c14-4cb3-9e58-7d1b674ef2b2",
    "_uuid": "b9db2251-7892-494f-ba9e-1d8cba603c54"
   },
   "outputs": [],
   "source": [
    "from sklearn.model_selection import train_test_split\n",
    "#Read Train and Test Data\n",
    "train_data = pd.read_csv(\"/kaggle/input/titanic/train.csv\")\n",
    "test_data = pd.read_csv(\"/kaggle/input/titanic/test.csv\")\n",
    "\n",
    "y=train_data[\"Survived\"]"
   ]
  },
  {
   "cell_type": "markdown",
   "metadata": {
    "_cell_guid": "c75d6313-3a58-49f2-91a3-aaab4c9733a6",
    "_uuid": "3e372ee4-1725-45f1-bc0b-61a873573ab3"
   },
   "source": [
    "# Exploration, Analysis and Feature Engineering"
   ]
  },
  {
   "cell_type": "code",
   "execution_count": 4,
   "metadata": {
    "_cell_guid": "f64408e5-36c6-489b-b6ca-b77550b6d39e",
    "_uuid": "87fe09ce-fb79-4e0f-abb8-be630722df8f"
   },
   "outputs": [
    {
     "name": "stdout",
     "output_type": "stream",
     "text": [
      "<class 'pandas.core.frame.DataFrame'>\n",
      "RangeIndex: 891 entries, 0 to 890\n",
      "Data columns (total 12 columns):\n",
      " #   Column       Non-Null Count  Dtype  \n",
      "---  ------       --------------  -----  \n",
      " 0   PassengerId  891 non-null    int64  \n",
      " 1   Survived     891 non-null    int64  \n",
      " 2   Pclass       891 non-null    int64  \n",
      " 3   Name         891 non-null    object \n",
      " 4   Sex          891 non-null    object \n",
      " 5   Age          714 non-null    float64\n",
      " 6   SibSp        891 non-null    int64  \n",
      " 7   Parch        891 non-null    int64  \n",
      " 8   Ticket       891 non-null    object \n",
      " 9   Fare         891 non-null    float64\n",
      " 10  Cabin        204 non-null    object \n",
      " 11  Embarked     889 non-null    object \n",
      "dtypes: float64(2), int64(5), object(5)\n",
      "memory usage: 83.7+ KB\n",
      "<class 'pandas.core.frame.DataFrame'>\n",
      "RangeIndex: 418 entries, 0 to 417\n",
      "Data columns (total 11 columns):\n",
      " #   Column       Non-Null Count  Dtype  \n",
      "---  ------       --------------  -----  \n",
      " 0   PassengerId  418 non-null    int64  \n",
      " 1   Pclass       418 non-null    int64  \n",
      " 2   Name         418 non-null    object \n",
      " 3   Sex          418 non-null    object \n",
      " 4   Age          332 non-null    float64\n",
      " 5   SibSp        418 non-null    int64  \n",
      " 6   Parch        418 non-null    int64  \n",
      " 7   Ticket       418 non-null    object \n",
      " 8   Fare         417 non-null    float64\n",
      " 9   Cabin        91 non-null     object \n",
      " 10  Embarked     418 non-null    object \n",
      "dtypes: float64(2), int64(4), object(5)\n",
      "memory usage: 36.0+ KB\n"
     ]
    }
   ],
   "source": [
    "train_data.info()\n",
    "test_data.info()"
   ]
  },
  {
   "cell_type": "code",
   "execution_count": 5,
   "metadata": {
    "_cell_guid": "d282e26a-db64-426e-b9a2-91057503ae28",
    "_uuid": "cd8c1d70-d93a-4aa4-b41a-837e369ace10"
   },
   "outputs": [
    {
     "name": "stdout",
     "output_type": "stream",
     "text": [
      "The shape of train_data: (891, 12)\n",
      "The shape of test_data: (418, 11)\n"
     ]
    }
   ],
   "source": [
    "print(\"The shape of train_data:\", train_data.shape)\n",
    "print(\"The shape of test_data:\", test_data.shape)"
   ]
  },
  {
   "cell_type": "code",
   "execution_count": 6,
   "metadata": {
    "_cell_guid": "b535cfd5-c533-462a-a5a5-0f1018a3fb3b",
    "_uuid": "d5dbd78d-69b3-4190-8290-277ab13bdbc3"
   },
   "outputs": [
    {
     "data": {
      "text/html": [
       "<div>\n",
       "<style scoped>\n",
       "    .dataframe tbody tr th:only-of-type {\n",
       "        vertical-align: middle;\n",
       "    }\n",
       "\n",
       "    .dataframe tbody tr th {\n",
       "        vertical-align: top;\n",
       "    }\n",
       "\n",
       "    .dataframe thead th {\n",
       "        text-align: right;\n",
       "    }\n",
       "</style>\n",
       "<table border=\"1\" class=\"dataframe\">\n",
       "  <thead>\n",
       "    <tr style=\"text-align: right;\">\n",
       "      <th></th>\n",
       "      <th>PassengerId</th>\n",
       "      <th>Survived</th>\n",
       "      <th>Pclass</th>\n",
       "      <th>Name</th>\n",
       "      <th>Sex</th>\n",
       "      <th>Age</th>\n",
       "      <th>SibSp</th>\n",
       "      <th>Parch</th>\n",
       "      <th>Ticket</th>\n",
       "      <th>Fare</th>\n",
       "      <th>Cabin</th>\n",
       "      <th>Embarked</th>\n",
       "    </tr>\n",
       "  </thead>\n",
       "  <tbody>\n",
       "    <tr>\n",
       "      <th>0</th>\n",
       "      <td>1</td>\n",
       "      <td>0</td>\n",
       "      <td>3</td>\n",
       "      <td>Braund, Mr. Owen Harris</td>\n",
       "      <td>male</td>\n",
       "      <td>22.0</td>\n",
       "      <td>1</td>\n",
       "      <td>0</td>\n",
       "      <td>A/5 21171</td>\n",
       "      <td>7.2500</td>\n",
       "      <td>NaN</td>\n",
       "      <td>S</td>\n",
       "    </tr>\n",
       "    <tr>\n",
       "      <th>1</th>\n",
       "      <td>2</td>\n",
       "      <td>1</td>\n",
       "      <td>1</td>\n",
       "      <td>Cumings, Mrs. John Bradley (Florence Briggs Th...</td>\n",
       "      <td>female</td>\n",
       "      <td>38.0</td>\n",
       "      <td>1</td>\n",
       "      <td>0</td>\n",
       "      <td>PC 17599</td>\n",
       "      <td>71.2833</td>\n",
       "      <td>C85</td>\n",
       "      <td>C</td>\n",
       "    </tr>\n",
       "    <tr>\n",
       "      <th>2</th>\n",
       "      <td>3</td>\n",
       "      <td>1</td>\n",
       "      <td>3</td>\n",
       "      <td>Heikkinen, Miss. Laina</td>\n",
       "      <td>female</td>\n",
       "      <td>26.0</td>\n",
       "      <td>0</td>\n",
       "      <td>0</td>\n",
       "      <td>STON/O2. 3101282</td>\n",
       "      <td>7.9250</td>\n",
       "      <td>NaN</td>\n",
       "      <td>S</td>\n",
       "    </tr>\n",
       "    <tr>\n",
       "      <th>3</th>\n",
       "      <td>4</td>\n",
       "      <td>1</td>\n",
       "      <td>1</td>\n",
       "      <td>Futrelle, Mrs. Jacques Heath (Lily May Peel)</td>\n",
       "      <td>female</td>\n",
       "      <td>35.0</td>\n",
       "      <td>1</td>\n",
       "      <td>0</td>\n",
       "      <td>113803</td>\n",
       "      <td>53.1000</td>\n",
       "      <td>C123</td>\n",
       "      <td>S</td>\n",
       "    </tr>\n",
       "    <tr>\n",
       "      <th>4</th>\n",
       "      <td>5</td>\n",
       "      <td>0</td>\n",
       "      <td>3</td>\n",
       "      <td>Allen, Mr. William Henry</td>\n",
       "      <td>male</td>\n",
       "      <td>35.0</td>\n",
       "      <td>0</td>\n",
       "      <td>0</td>\n",
       "      <td>373450</td>\n",
       "      <td>8.0500</td>\n",
       "      <td>NaN</td>\n",
       "      <td>S</td>\n",
       "    </tr>\n",
       "  </tbody>\n",
       "</table>\n",
       "</div>"
      ],
      "text/plain": [
       "   PassengerId  Survived  Pclass  \\\n",
       "0            1         0       3   \n",
       "1            2         1       1   \n",
       "2            3         1       3   \n",
       "3            4         1       1   \n",
       "4            5         0       3   \n",
       "\n",
       "                                                Name     Sex   Age  SibSp  \\\n",
       "0                            Braund, Mr. Owen Harris    male  22.0      1   \n",
       "1  Cumings, Mrs. John Bradley (Florence Briggs Th...  female  38.0      1   \n",
       "2                             Heikkinen, Miss. Laina  female  26.0      0   \n",
       "3       Futrelle, Mrs. Jacques Heath (Lily May Peel)  female  35.0      1   \n",
       "4                           Allen, Mr. William Henry    male  35.0      0   \n",
       "\n",
       "   Parch            Ticket     Fare Cabin Embarked  \n",
       "0      0         A/5 21171   7.2500   NaN        S  \n",
       "1      0          PC 17599  71.2833   C85        C  \n",
       "2      0  STON/O2. 3101282   7.9250   NaN        S  \n",
       "3      0            113803  53.1000  C123        S  \n",
       "4      0            373450   8.0500   NaN        S  "
      ]
     },
     "execution_count": 6,
     "metadata": {},
     "output_type": "execute_result"
    }
   ],
   "source": [
    "train_data.head()"
   ]
  },
  {
   "cell_type": "code",
   "execution_count": 7,
   "metadata": {},
   "outputs": [
    {
     "data": {
      "text/html": [
       "<div>\n",
       "<style scoped>\n",
       "    .dataframe tbody tr th:only-of-type {\n",
       "        vertical-align: middle;\n",
       "    }\n",
       "\n",
       "    .dataframe tbody tr th {\n",
       "        vertical-align: top;\n",
       "    }\n",
       "\n",
       "    .dataframe thead th {\n",
       "        text-align: right;\n",
       "    }\n",
       "</style>\n",
       "<table border=\"1\" class=\"dataframe\">\n",
       "  <thead>\n",
       "    <tr style=\"text-align: right;\">\n",
       "      <th></th>\n",
       "      <th>PassengerId</th>\n",
       "      <th>Survived</th>\n",
       "      <th>Pclass</th>\n",
       "      <th>Name</th>\n",
       "      <th>Sex</th>\n",
       "      <th>Age</th>\n",
       "      <th>SibSp</th>\n",
       "      <th>Parch</th>\n",
       "      <th>Ticket</th>\n",
       "      <th>Fare</th>\n",
       "      <th>Cabin</th>\n",
       "      <th>Embarked</th>\n",
       "    </tr>\n",
       "  </thead>\n",
       "  <tbody>\n",
       "    <tr>\n",
       "      <th>886</th>\n",
       "      <td>887</td>\n",
       "      <td>0</td>\n",
       "      <td>2</td>\n",
       "      <td>Montvila, Rev. Juozas</td>\n",
       "      <td>male</td>\n",
       "      <td>27.0</td>\n",
       "      <td>0</td>\n",
       "      <td>0</td>\n",
       "      <td>211536</td>\n",
       "      <td>13.00</td>\n",
       "      <td>NaN</td>\n",
       "      <td>S</td>\n",
       "    </tr>\n",
       "    <tr>\n",
       "      <th>887</th>\n",
       "      <td>888</td>\n",
       "      <td>1</td>\n",
       "      <td>1</td>\n",
       "      <td>Graham, Miss. Margaret Edith</td>\n",
       "      <td>female</td>\n",
       "      <td>19.0</td>\n",
       "      <td>0</td>\n",
       "      <td>0</td>\n",
       "      <td>112053</td>\n",
       "      <td>30.00</td>\n",
       "      <td>B42</td>\n",
       "      <td>S</td>\n",
       "    </tr>\n",
       "    <tr>\n",
       "      <th>888</th>\n",
       "      <td>889</td>\n",
       "      <td>0</td>\n",
       "      <td>3</td>\n",
       "      <td>Johnston, Miss. Catherine Helen \"Carrie\"</td>\n",
       "      <td>female</td>\n",
       "      <td>NaN</td>\n",
       "      <td>1</td>\n",
       "      <td>2</td>\n",
       "      <td>W./C. 6607</td>\n",
       "      <td>23.45</td>\n",
       "      <td>NaN</td>\n",
       "      <td>S</td>\n",
       "    </tr>\n",
       "    <tr>\n",
       "      <th>889</th>\n",
       "      <td>890</td>\n",
       "      <td>1</td>\n",
       "      <td>1</td>\n",
       "      <td>Behr, Mr. Karl Howell</td>\n",
       "      <td>male</td>\n",
       "      <td>26.0</td>\n",
       "      <td>0</td>\n",
       "      <td>0</td>\n",
       "      <td>111369</td>\n",
       "      <td>30.00</td>\n",
       "      <td>C148</td>\n",
       "      <td>C</td>\n",
       "    </tr>\n",
       "    <tr>\n",
       "      <th>890</th>\n",
       "      <td>891</td>\n",
       "      <td>0</td>\n",
       "      <td>3</td>\n",
       "      <td>Dooley, Mr. Patrick</td>\n",
       "      <td>male</td>\n",
       "      <td>32.0</td>\n",
       "      <td>0</td>\n",
       "      <td>0</td>\n",
       "      <td>370376</td>\n",
       "      <td>7.75</td>\n",
       "      <td>NaN</td>\n",
       "      <td>Q</td>\n",
       "    </tr>\n",
       "  </tbody>\n",
       "</table>\n",
       "</div>"
      ],
      "text/plain": [
       "     PassengerId  Survived  Pclass                                      Name  \\\n",
       "886          887         0       2                     Montvila, Rev. Juozas   \n",
       "887          888         1       1              Graham, Miss. Margaret Edith   \n",
       "888          889         0       3  Johnston, Miss. Catherine Helen \"Carrie\"   \n",
       "889          890         1       1                     Behr, Mr. Karl Howell   \n",
       "890          891         0       3                       Dooley, Mr. Patrick   \n",
       "\n",
       "        Sex   Age  SibSp  Parch      Ticket   Fare Cabin Embarked  \n",
       "886    male  27.0      0      0      211536  13.00   NaN        S  \n",
       "887  female  19.0      0      0      112053  30.00   B42        S  \n",
       "888  female   NaN      1      2  W./C. 6607  23.45   NaN        S  \n",
       "889    male  26.0      0      0      111369  30.00  C148        C  \n",
       "890    male  32.0      0      0      370376   7.75   NaN        Q  "
      ]
     },
     "execution_count": 7,
     "metadata": {},
     "output_type": "execute_result"
    }
   ],
   "source": [
    "train_data.tail()"
   ]
  },
  {
   "cell_type": "code",
   "execution_count": 8,
   "metadata": {
    "_cell_guid": "ba36ee2d-e824-4d46-bc04-b330d22c436d",
    "_uuid": "d6bfde3e-a2f6-4353-96c2-5f2e3d11cf9a"
   },
   "outputs": [
    {
     "name": "stdout",
     "output_type": "stream",
     "text": [
      "unique values in PassengerId column is: 891\n",
      "unique values in Survived column is: 2\n",
      "unique values in Pclass column is: 3\n",
      "unique values in Name column is: 891\n",
      "unique values in Sex column is: 2\n",
      "unique values in Age column is: 88\n",
      "unique values in SibSp column is: 7\n",
      "unique values in Parch column is: 7\n",
      "unique values in Ticket column is: 681\n",
      "unique values in Fare column is: 248\n",
      "unique values in Cabin column is: 147\n",
      "unique values in Embarked column is: 3\n"
     ]
    }
   ],
   "source": [
    "columns = train_data.columns\n",
    "for col in columns:\n",
    "    print(\"unique values in {} column is: {}\". format(col, train_data[col].value_counts().size))"
   ]
  },
  {
   "cell_type": "code",
   "execution_count": 9,
   "metadata": {
    "_cell_guid": "6cd5188b-df83-4570-bebb-d020dbd2a55c",
    "_uuid": "db3ea9cb-9a8d-4935-b293-1ff5ad41db1a"
   },
   "outputs": [
    {
     "name": "stdout",
     "output_type": "stream",
     "text": [
      "Total number of male passengers:\n",
      "577\n",
      "Total number of female passengers:\n",
      "314\n"
     ]
    }
   ],
   "source": [
    "print(\"Total number of male passengers:\")\n",
    "print(train_data.loc[train_data.Sex==\"male\"].Sex.size)\n",
    "print(\"Total number of female passengers:\")\n",
    "print(train_data.loc[train_data.Sex==\"female\"].Sex.size)"
   ]
  },
  {
   "cell_type": "code",
   "execution_count": 10,
   "metadata": {
    "_cell_guid": "d7ce26c5-0350-4755-8983-14406d87d22b",
    "_uuid": "eed96768-063f-47a3-8af8-23d6bb448a7a"
   },
   "outputs": [
    {
     "name": "stdout",
     "output_type": "stream",
     "text": [
      "The percentage of survived with respect to Sex:\n",
      "Sex\n",
      "female    74.203822\n",
      "male      18.890815\n",
      "Name: Survived, dtype: float64\n"
     ]
    }
   ],
   "source": [
    "print(\"The percentage of survived with respect to Sex:\")\n",
    "print(100 * train_data.groupby(\"Sex\").Survived.mean())"
   ]
  },
  {
   "cell_type": "code",
   "execution_count": 11,
   "metadata": {
    "_cell_guid": "4aca19b8-e0ca-460d-9b74-b01d7e8b38ba",
    "_uuid": "d09c812c-0f17-4171-9aa6-777ff0bfa17d"
   },
   "outputs": [
    {
     "name": "stdout",
     "output_type": "stream",
     "text": [
      "The percentage of survived with respect to Pclass:\n",
      "Pclass\n",
      "1    62.962963\n",
      "2    47.282609\n",
      "3    24.236253\n",
      "Name: Survived, dtype: float64\n"
     ]
    }
   ],
   "source": [
    "print(\"The percentage of survived with respect to Pclass:\")\n",
    "print(100 * train_data.groupby(\"Pclass\").Survived.mean())"
   ]
  },
  {
   "cell_type": "code",
   "execution_count": 12,
   "metadata": {
    "_cell_guid": "24ca7c40-5450-457e-bd8c-dfa26bdb2e5c",
    "_uuid": "e702b7e7-e297-4aa9-8a79-4ed494e4544d"
   },
   "outputs": [
    {
     "name": "stdout",
     "output_type": "stream",
     "text": [
      "The percentage of survived with respect to Age:\n",
      "Age\n",
      "0.42     100.0\n",
      "0.67     100.0\n",
      "0.75     100.0\n",
      "0.83     100.0\n",
      "0.92     100.0\n",
      "         ...  \n",
      "70.00      0.0\n",
      "70.50      0.0\n",
      "71.00      0.0\n",
      "74.00      0.0\n",
      "80.00    100.0\n",
      "Name: Survived, Length: 88, dtype: float64\n"
     ]
    }
   ],
   "source": [
    "print(\"The percentage of survived with respect to Age:\")\n",
    "print(100 * train_data.groupby(\"Age\").Survived.mean())"
   ]
  },
  {
   "cell_type": "markdown",
   "metadata": {
    "_cell_guid": "729baa14-3863-44f4-9de6-2ef8060349f6",
    "_uuid": "08dcfd5a-2248-4c4b-86e2-3fc083b7760e"
   },
   "source": [
    "As you can see it is difficult to grasp an idea about the relation between survived and age features. In this case, data visualization will be used."
   ]
  },
  {
   "cell_type": "code",
   "execution_count": 13,
   "metadata": {
    "_cell_guid": "1f841ec4-667c-429c-b1ce-064ed062166d",
    "_uuid": "bad4da1c-8aff-4cc9-ac3e-74dded45ae32"
   },
   "outputs": [
    {
     "data": {
      "text/plain": [
       "<seaborn.axisgrid.FacetGrid at 0x7f741ff8c550>"
      ]
     },
     "execution_count": 13,
     "metadata": {},
     "output_type": "execute_result"
    },
    {
     "data": {
      "image/png": "[encoded data removed]",
      "text/plain": [
       "<Figure size 864x144 with 2 Axes>"
      ]
     },
     "metadata": {
      "needs_background": "light"
     },
     "output_type": "display_data"
    }
   ],
   "source": [
    "g = sns.FacetGrid(col=\"Survived\", data=train_data, height = 2, aspect=3)\n",
    "g.map(sns.distplot, \"Age\", kde=False, bins=80)"
   ]
  },
  {
   "cell_type": "markdown",
   "metadata": {
    "_cell_guid": "5908823a-c921-4edb-8c47-0430d9650f95",
    "_uuid": "50218bcc-7f3f-4496-97a2-65fb52dceb8b"
   },
   "source": [
    "The above graph tells us that children had a higher survival chance. To get a more clear prediction, one way is to divide the age feature into categories. pandas.cut() function will be used to achieve this goal. Since xgboost will be used, missing values will not be imputed instead they will be categorized as missing."
   ]
  },
  {
   "cell_type": "code",
   "execution_count": 14,
   "metadata": {
    "_cell_guid": "73151eef-895c-4382-8449-3cc880c2945b",
    "_uuid": "41f8e918-b10a-4dfa-b1ff-4be7f7bc8c73"
   },
   "outputs": [],
   "source": [
    "def cut_age(df, cut_values, label_names):\n",
    "    df[\"Age\"] = df[\"Age\"].fillna(-0.5)\n",
    "    df[\"Age\"]=pd.cut(df[\"Age\"], bins=cut_values, labels=label_names)\n",
    "    return df\n",
    "    \n",
    "cut_values=[-1, 0, 3, 12, 19, 35, 60, 80]\n",
    "label_names=[\"Missing\", \"Infants\", \"Children\", \"Teenagers\", \"Young Adults\", \"Middle-Age Adults\", \"Seniors\"]\n",
    "train_data=cut_age(train_data, cut_values, label_names)\n",
    "test_data=cut_age(test_data, cut_values, label_names)"
   ]
  },
  {
   "cell_type": "code",
   "execution_count": 15,
   "metadata": {
    "_cell_guid": "664a26c3-c1b8-417b-83b7-e197f32adfd6",
    "_uuid": "721f0a91-9bc6-49df-b6e7-a44ac7bc12ae"
   },
   "outputs": [
    {
     "data": {
      "text/plain": [
       "<seaborn.axisgrid.FacetGrid at 0x7f741ff7fa90>"
      ]
     },
     "execution_count": 15,
     "metadata": {},
     "output_type": "execute_result"
    },
    {
     "data": {
      "image/png": "[encoded data removed]",
      "text/plain": [
       "<Figure size 864x432 with 2 Axes>"
      ]
     },
     "metadata": {
      "needs_background": "light"
     },
     "output_type": "display_data"
    }
   ],
   "source": [
    "sns.catplot(x=\"Age\", row=\"Survived\", kind=\"count\", height=3, aspect=4, data=train_data)"
   ]
  },
  {
   "cell_type": "code",
   "execution_count": 16,
   "metadata": {
    "_cell_guid": "987d55db-5ef8-48f8-b5f3-d74deef6654f",
    "_uuid": "1630d2b3-f80d-42b2-9550-00a01ca76226"
   },
   "outputs": [
    {
     "name": "stdout",
     "output_type": "stream",
     "text": [
      "Age\n",
      "Missing              29.378531\n",
      "Infants              66.666667\n",
      "Children             51.282051\n",
      "Teenagers            41.052632\n",
      "Young Adults         38.438438\n",
      "Middle-Age Adults    40.000000\n",
      "Seniors              22.727273\n",
      "Name: Survived, dtype: float64\n"
     ]
    }
   ],
   "source": [
    "print(100 * train_data.groupby(\"Age\").Survived.mean())"
   ]
  },
  {
   "cell_type": "markdown",
   "metadata": {
    "_cell_guid": "2345ef55-d43a-4cf8-b163-1fa41619f8b1",
    "_uuid": "4e75bc84-63fb-4f43-8b8e-7b1b1ff4ddf6"
   },
   "source": [
    "The results prove that infants and children had survived more than other age groups."
   ]
  },
  {
   "cell_type": "code",
   "execution_count": 17,
   "metadata": {
    "_cell_guid": "af822053-233c-46fe-9989-e8c231d0728a",
    "_uuid": "32069ce1-7bd7-40d7-a7aa-9237d36827a2"
   },
   "outputs": [
    {
     "name": "stdout",
     "output_type": "stream",
     "text": [
      "The percentage of survived with respect to SibSp:\n",
      "SibSp\n",
      "0    34.539474\n",
      "1    53.588517\n",
      "2    46.428571\n",
      "3    25.000000\n",
      "4    16.666667\n",
      "5     0.000000\n",
      "8     0.000000\n",
      "Name: Survived, dtype: float64\n"
     ]
    }
   ],
   "source": [
    "print(\"The percentage of survived with respect to SibSp:\")\n",
    "print(100 * train_data.groupby(\"SibSp\").Survived.mean())"
   ]
  },
  {
   "cell_type": "code",
   "execution_count": 18,
   "metadata": {
    "_cell_guid": "3b3ee1d5-2494-4387-87aa-0f2248493fab",
    "_uuid": "48f76cde-0de0-44fb-af10-a7ced7689583"
   },
   "outputs": [
    {
     "name": "stdout",
     "output_type": "stream",
     "text": [
      "The percentage of survived with respect to Parch:\n",
      "Parch\n",
      "0    34.365782\n",
      "1    55.084746\n",
      "2    50.000000\n",
      "3    60.000000\n",
      "4     0.000000\n",
      "5    20.000000\n",
      "6     0.000000\n",
      "Name: Survived, dtype: float64\n"
     ]
    }
   ],
   "source": [
    "print(\"The percentage of survived with respect to Parch:\")\n",
    "print(100 * train_data.groupby(\"Parch\").Survived.mean())"
   ]
  },
  {
   "cell_type": "markdown",
   "metadata": {
    "_cell_guid": "2431ca60-34b0-4a05-a8cb-b6a893ab8f84",
    "_uuid": "d63a4fc1-690c-478e-b58f-8ce5564dc3e1"
   },
   "source": [
    "What is interesting in these findings is that it seems that individuals who are alone (no family members) had less chance of survival than if they had 1 to 3 family members on board. But when the family members are more than 3 the survival chance drops. To be more precise, Parch and SibSp featurs will be combined into one feature to indicate the number of family members of each passengers on board. The new feature will be called Fam_membs, and Parch and SibSp features will be dropped."
   ]
  },
  {
   "cell_type": "code",
   "execution_count": 19,
   "metadata": {
    "_cell_guid": "4404e7f2-83c2-4ca9-920a-2c920b0ad378",
    "_uuid": "f5fba9fd-6846-4299-bc11-e8f759335f7a"
   },
   "outputs": [],
   "source": [
    "def Cr_fam_membs(df):\n",
    "    df[\"FamMembs\"]= df[\"Parch\"] + df[\"SibSp\"]\n",
    "    df=df.drop([\"SibSp\", \"Parch\"], axis=1)\n",
    "    return df\n",
    "\n",
    "train_data=Cr_fam_membs(train_data)\n",
    "test_data=Cr_fam_membs(test_data)"
   ]
  },
  {
   "cell_type": "code",
   "execution_count": 20,
   "metadata": {
    "_cell_guid": "e18db5ba-6506-48c5-ae67-50045b311bfc",
    "_uuid": "cbf6c465-bad9-44df-9e92-a6b966847308"
   },
   "outputs": [
    {
     "name": "stdout",
     "output_type": "stream",
     "text": [
      "FamMembs\n",
      "0     30.353818\n",
      "1     55.279503\n",
      "2     57.843137\n",
      "3     72.413793\n",
      "4     20.000000\n",
      "5     13.636364\n",
      "6     33.333333\n",
      "7      0.000000\n",
      "10     0.000000\n",
      "Name: Survived, dtype: float64\n"
     ]
    }
   ],
   "source": [
    "print(100 * train_data.groupby(\"FamMembs\").Survived.mean())"
   ]
  },
  {
   "cell_type": "markdown",
   "metadata": {
    "_cell_guid": "fd661875-7211-4715-9cd0-3682e4209a30",
    "_uuid": "d3f0d107-c420-4a11-b225-9a396fa5a6f6"
   },
   "source": [
    "To limit the number of categories in Fam_membs features, it will be divided into 4 categories as following:\n",
    "* IsAlone: 0 fam_membs\n",
    "* Small family: 1-3 fam_membs\n",
    "* Meduim family: 4-6 fam_membs\n",
    "* Large family: 7-10 fam_membs"
   ]
  },
  {
   "cell_type": "code",
   "execution_count": 21,
   "metadata": {},
   "outputs": [
    {
     "data": {
      "text/plain": [
       "array([ 1,  0,  4,  2,  6,  5,  3,  7, 10])"
      ]
     },
     "execution_count": 21,
     "metadata": {},
     "output_type": "execute_result"
    }
   ],
   "source": [
    "train_data[\"FamMembs\"].unique()"
   ]
  },
  {
   "cell_type": "code",
   "execution_count": 22,
   "metadata": {},
   "outputs": [
    {
     "data": {
      "text/plain": [
       "array([ 0,  1,  2,  4,  3,  5,  7,  6, 10])"
      ]
     },
     "execution_count": 22,
     "metadata": {},
     "output_type": "execute_result"
    }
   ],
   "source": [
    "test_data[\"FamMembs\"].unique()"
   ]
  },
  {
   "cell_type": "code",
   "execution_count": 23,
   "metadata": {},
   "outputs": [],
   "source": [
    "train_data[\"FamMembs\"]=train_data[\"FamMembs\"].apply(lambda s: \"IsAlone\" if s==0 else s)\n",
    "train_data[\"FamMembs\"]=train_data[\"FamMembs\"].apply(lambda s: \"Small family\" if (s==1 or s==2 or s==3) else s)\n",
    "train_data[\"FamMembs\"]=train_data[\"FamMembs\"].apply(lambda s: \"Meduim family\" if (s==4 or s==5 or s==6) else s)\n",
    "train_data[\"FamMembs\"]=train_data[\"FamMembs\"].apply(lambda s: \"Large family\" if (s==7 or s==10) else s)"
   ]
  },
  {
   "cell_type": "code",
   "execution_count": 24,
   "metadata": {},
   "outputs": [],
   "source": [
    "test_data[\"FamMembs\"]=test_data[\"FamMembs\"].apply(lambda s: \"IsAlone\" if s==0 else s)\n",
    "test_data[\"FamMembs\"]=test_data[\"FamMembs\"].apply(lambda s: \"Small family\" if (s==1 or s==2 or s==3) else s)\n",
    "test_data[\"FamMembs\"]=test_data[\"FamMembs\"].apply(lambda s: \"Meduim family\" if (s==4 or s==5 or s==6) else s)\n",
    "test_data[\"FamMembs\"]=test_data[\"FamMembs\"].apply(lambda s: \"Large family\" if (s==7 or s==10) else s)"
   ]
  },
  {
   "cell_type": "code",
   "execution_count": 25,
   "metadata": {},
   "outputs": [
    {
     "data": {
      "text/plain": [
       "IsAlone          537\n",
       "Small family     292\n",
       "Meduim family     49\n",
       "Large family      13\n",
       "Name: FamMembs, dtype: int64"
      ]
     },
     "execution_count": 25,
     "metadata": {},
     "output_type": "execute_result"
    }
   ],
   "source": [
    "train_data[\"FamMembs\"].value_counts()"
   ]
  },
  {
   "cell_type": "code",
   "execution_count": 26,
   "metadata": {},
   "outputs": [
    {
     "data": {
      "text/plain": [
       "IsAlone          253\n",
       "Small family     145\n",
       "Meduim family     14\n",
       "Large family       6\n",
       "Name: FamMembs, dtype: int64"
      ]
     },
     "execution_count": 26,
     "metadata": {},
     "output_type": "execute_result"
    }
   ],
   "source": [
    "test_data[\"FamMembs\"].value_counts()"
   ]
  },
  {
   "cell_type": "code",
   "execution_count": 27,
   "metadata": {},
   "outputs": [
    {
     "name": "stdout",
     "output_type": "stream",
     "text": [
      "The percentage of survived with respect to Fam_membs:\n",
      "FamMembs\n",
      "IsAlone          30.353818\n",
      "Large family      0.000000\n",
      "Meduim family    20.408163\n",
      "Small family     57.876712\n",
      "Name: Survived, dtype: float64\n"
     ]
    }
   ],
   "source": [
    "print(\"The percentage of survived with respect to Fam_membs:\")\n",
    "print(100 * train_data.groupby(\"FamMembs\").Survived.mean())"
   ]
  },
  {
   "cell_type": "code",
   "execution_count": 28,
   "metadata": {},
   "outputs": [
    {
     "data": {
      "text/plain": [
       "<seaborn.axisgrid.FacetGrid at 0x7f741ae65ad0>"
      ]
     },
     "execution_count": 28,
     "metadata": {},
     "output_type": "execute_result"
    },
    {
     "data": {
      "image/png": "[encoded data removed]",
      "text/plain": [
       "<Figure size 864x432 with 2 Axes>"
      ]
     },
     "metadata": {
      "needs_background": "light"
     },
     "output_type": "display_data"
    }
   ],
   "source": [
    "sns.catplot(x=\"FamMembs\", row=\"Survived\", kind=\"count\", height=3, aspect=4, data=train_data)"
   ]
  },
  {
   "cell_type": "code",
   "execution_count": 29,
   "metadata": {
    "_cell_guid": "d2a0f00c-db45-4f29-b72d-6b8bc5263bff",
    "_uuid": "59c6995f-30fe-441a-ba3a-8dabd6ee60a7"
   },
   "outputs": [
    {
     "name": "stdout",
     "output_type": "stream",
     "text": [
      "The percentage of survived with respect to Embarked:\n",
      "Embarked\n",
      "C    55.357143\n",
      "Q    38.961039\n",
      "S    33.695652\n",
      "Name: Survived, dtype: float64\n"
     ]
    }
   ],
   "source": [
    "print(\"The percentage of survived with respect to Embarked:\")\n",
    "print(100 * train_data.groupby(\"Embarked\").Survived.mean())"
   ]
  },
  {
   "cell_type": "markdown",
   "metadata": {},
   "source": [
    "Since there is only two missing values in the train_data Embarked feature, they will be filled with the most frequent value."
   ]
  },
  {
   "cell_type": "code",
   "execution_count": 30,
   "metadata": {},
   "outputs": [],
   "source": [
    "train_data[\"Embarked\"]=train_data[\"Embarked\"].fillna(train_data[\"Embarked\"].mode()[0])\n",
    "test_data[\"Embarked\"]=test_data[\"Embarked\"].fillna(test_data[\"Embarked\"].mode()[0])"
   ]
  },
  {
   "cell_type": "code",
   "execution_count": 31,
   "metadata": {
    "_cell_guid": "e4c8b024-4143-4933-8192-01f72e371d6d",
    "_uuid": "0fe7204d-6b65-4088-a759-4b9034422ef3"
   },
   "outputs": [
    {
     "data": {
      "text/plain": [
       "<seaborn.axisgrid.FacetGrid at 0x7f741a6503d0>"
      ]
     },
     "execution_count": 31,
     "metadata": {},
     "output_type": "execute_result"
    },
    {
     "data": {
      "image/png": "[encoded data removed]",
      "text/plain": [
       "<Figure size 864x144 with 2 Axes>"
      ]
     },
     "metadata": {
      "needs_background": "light"
     },
     "output_type": "display_data"
    }
   ],
   "source": [
    "g = sns.FacetGrid(col=\"Survived\", data=train_data, height = 2, aspect=3)\n",
    "g.map(sns.distplot, \"Fare\", kde=False, bins=100)"
   ]
  },
  {
   "cell_type": "markdown",
   "metadata": {
    "_cell_guid": "2b46e99b-981a-4ac6-8714-20bf7c7befcf",
    "_uuid": "3d9e8fd4-ebcd-4cc7-851f-60866f6c1812"
   },
   "source": [
    "Here we face the same issue as the age feature. To be more clear pandas.cut() or pandas.qcut() will be used to divide the fare into categories. Further study will be done on the Fare feature to decide which to use  pandas.cut() or pandas.qcut()."
   ]
  },
  {
   "cell_type": "code",
   "execution_count": 32,
   "metadata": {
    "_cell_guid": "d1ce466c-cf0b-4dc6-a99a-b4ac1364f187",
    "_uuid": "b3980f48-ae44-44f9-b949-c67da72a9ee1"
   },
   "outputs": [
    {
     "data": {
      "text/plain": [
       "<seaborn.axisgrid.FacetGrid at 0x7f741a2486d0>"
      ]
     },
     "execution_count": 32,
     "metadata": {},
     "output_type": "execute_result"
    },
    {
     "data": {
      "image/png": "[encoded data removed]",
      "text/plain": [
       "<Figure size 360x360 with 1 Axes>"
      ]
     },
     "metadata": {
      "needs_background": "light"
     },
     "output_type": "display_data"
    }
   ],
   "source": [
    "sns.catplot(x=\"Pclass\", y=\"Fare\", kind=\"bar\", data=train_data)"
   ]
  },
  {
   "cell_type": "code",
   "execution_count": 33,
   "metadata": {
    "_cell_guid": "a37c5eb2-07c9-442f-82b3-2b7f4b01c529",
    "_uuid": "6ff6c648-fd13-4a29-965d-e8be1d0ac5a7"
   },
   "outputs": [
    {
     "data": {
      "text/plain": [
       "<seaborn.axisgrid.FacetGrid at 0x7f741a1c8790>"
      ]
     },
     "execution_count": 33,
     "metadata": {},
     "output_type": "execute_result"
    },
    {
     "data": {
      "image/png": "[encoded data removed]",
      "text/plain": [
       "<Figure size 1080x648 with 3 Axes>"
      ]
     },
     "metadata": {
      "needs_background": "light"
     },
     "output_type": "display_data"
    }
   ],
   "source": [
    "bins=np.arange(0, 600, 50)\n",
    "g=sns.FacetGrid(row=\"Pclass\", data=train_data, height = 3, aspect=5)\n",
    "g.map(sns.distplot, \"Fare\", kde=False, bins=bins, color=\"b\")"
   ]
  },
  {
   "cell_type": "markdown",
   "metadata": {
    "_cell_guid": "3a102acb-0ffb-4202-bfd0-41bf2f44b88d",
    "_uuid": "19d77a08-8168-4f80-b305-c91aa634cf0b"
   },
   "source": [
    "The values differ from what is expected, as there are people who are in Pclass 1 but paid low to no fare. This can be due to several reasons such as if the passenger is an employee or not.\n",
    "Before dividing the fare, its relation with embarked port will be checked. And the relation of Embarked port with Pclass will also be checked."
   ]
  },
  {
   "cell_type": "code",
   "execution_count": 34,
   "metadata": {
    "_cell_guid": "b78c3422-c80b-471a-9e91-308882636ef3",
    "_uuid": "5dfffcc1-330e-455b-a9a5-525a51384c64"
   },
   "outputs": [
    {
     "data": {
      "text/plain": [
       "<seaborn.axisgrid.FacetGrid at 0x7f7419df8350>"
      ]
     },
     "execution_count": 34,
     "metadata": {},
     "output_type": "execute_result"
    },
    {
     "data": {
      "image/png": "[encoded data removed]",
      "text/plain": [
       "<Figure size 1296x216 with 3 Axes>"
      ]
     },
     "metadata": {
      "needs_background": "light"
     },
     "output_type": "display_data"
    }
   ],
   "source": [
    "bins=np.arange(0, 600, 50)\n",
    "g=sns.FacetGrid(col=\"Embarked\", data=train_data, height = 3, aspect=2)\n",
    "g.map(sns.distplot, \"Fare\", kde=False, bins=bins, color=\"b\")"
   ]
  },
  {
   "cell_type": "markdown",
   "metadata": {
    "_cell_guid": "46e3cca4-3928-4ff7-aa48-865524daef59",
    "_uuid": "0479bc33-5438-4976-9a70-f70d39804af0"
   },
   "source": [
    "Individuals who embarked through port S paid the lowest fare.[](http://)"
   ]
  },
  {
   "cell_type": "code",
   "execution_count": 35,
   "metadata": {
    "_cell_guid": "5a14f975-8771-48d8-8d09-b1493ad29ae5",
    "_uuid": "6ef5ae73-5983-4e66-beca-432ac2999603"
   },
   "outputs": [
    {
     "data": {
      "text/plain": [
       "<seaborn.axisgrid.FacetGrid at 0x7f74199bc550>"
      ]
     },
     "execution_count": 35,
     "metadata": {},
     "output_type": "execute_result"
    },
    {
     "data": {
      "image/png": "[encoded data removed]",
      "text/plain": [
       "<Figure size 418.625x360 with 1 Axes>"
      ]
     },
     "metadata": {
      "needs_background": "light"
     },
     "output_type": "display_data"
    }
   ],
   "source": [
    "sns.catplot(x=\"Pclass\", hue=\"Embarked\", kind=\"count\", data=train_data)"
   ]
  },
  {
   "cell_type": "markdown",
   "metadata": {
    "_cell_guid": "b56f544d-493a-4323-941f-48bb8df8b40d",
    "_uuid": "3ee08233-d53f-4ecd-a224-5506ac6b1577"
   },
   "source": [
    "This explains why a high number of passengers who embarked from port S paid the low fares, as this port is mostly used by Pclass 3. It also showed the lowest survival mean. Port C showed passengers who paid higher fares, as it is mostly used by Pclass 1. Also, port C showed the highest survival mean. Port Q was embarked by individuals who paid low fares and mainly belonged to Pclass 3. But why did Port S show less survival mean than Port Q? This might be because Port S was used by most of the passengers (higher number of passengers embarked through this port)."
   ]
  },
  {
   "cell_type": "code",
   "execution_count": 36,
   "metadata": {
    "_cell_guid": "f85e5383-9de0-4631-9a1f-f741c9391978",
    "_uuid": "3f5afba4-eb5c-46b2-9c0a-37ffff0a1ead"
   },
   "outputs": [
    {
     "name": "stdout",
     "output_type": "stream",
     "text": [
      "646\n",
      "77\n",
      "168\n"
     ]
    }
   ],
   "source": [
    "#Check number of passengers who embarked at each port\n",
    "print(train_data.loc[train_data[\"Embarked\"]==\"S\"].PassengerId.value_counts().sum())\n",
    "print(train_data.loc[train_data[\"Embarked\"]==\"Q\"].PassengerId.value_counts().sum())\n",
    "print(train_data.loc[train_data[\"Embarked\"]==\"C\"].PassengerId.value_counts().sum())"
   ]
  },
  {
   "cell_type": "markdown",
   "metadata": {},
   "source": [
    "In the test_data there is 1 empty value in the Fare feature. I will fill it with -1. "
   ]
  },
  {
   "cell_type": "code",
   "execution_count": 37,
   "metadata": {},
   "outputs": [],
   "source": [
    "test_data[\"Fare\"] = test_data[\"Fare\"].fillna(-1)"
   ]
  },
  {
   "cell_type": "code",
   "execution_count": 38,
   "metadata": {
    "_cell_guid": "e69e64ac-004c-4cdf-bbb4-be87ca862cb0",
    "_uuid": "6a078cd0-ee75-4367-a60d-7a1521b522d7"
   },
   "outputs": [
    {
     "data": {
      "text/plain": [
       "count    891.000000\n",
       "mean      32.204208\n",
       "std       49.693429\n",
       "min        0.000000\n",
       "25%        7.910400\n",
       "50%       14.454200\n",
       "75%       31.000000\n",
       "max      512.329200\n",
       "Name: Fare, dtype: float64"
      ]
     },
     "execution_count": 38,
     "metadata": {},
     "output_type": "execute_result"
    }
   ],
   "source": [
    "train_data[\"Fare\"].describe()"
   ]
  },
  {
   "cell_type": "code",
   "execution_count": 39,
   "metadata": {},
   "outputs": [
    {
     "data": {
      "text/plain": [
       "count    418.000000\n",
       "mean      35.539564\n",
       "std       55.869231\n",
       "min       -1.000000\n",
       "25%        7.895800\n",
       "50%       14.454200\n",
       "75%       31.471875\n",
       "max      512.329200\n",
       "Name: Fare, dtype: float64"
      ]
     },
     "execution_count": 39,
     "metadata": {},
     "output_type": "execute_result"
    }
   ],
   "source": [
    "test_data[\"Fare\"].describe()"
   ]
  },
  {
   "cell_type": "markdown",
   "metadata": {},
   "source": [
    "pandas.qcut() will be used to divide the Fare into four categories with equal distributions. pandas.cut() was not used since it is not clear how the fare was assigned and how it relates with other features. "
   ]
  },
  {
   "cell_type": "code",
   "execution_count": 40,
   "metadata": {
    "_cell_guid": "2d8fc626-7da7-4a8d-91cd-ef760cd246cf",
    "_uuid": "82d5192b-0b6f-49f8-83a0-04391f2742ba"
   },
   "outputs": [],
   "source": [
    "def qcut_fare(df, q, labels):\n",
    "    df[\"Fare\"]=pd.qcut(df[\"Fare\"], q, labels=labels)\n",
    "    return df\n",
    "\n",
    "labels=[\"range1\", \"range2\", \"range3\", \"range4\"]\n",
    "train_data=qcut_fare(train_data, 4, labels)\n",
    "test_data=qcut_fare(test_data, 4, labels)"
   ]
  },
  {
   "cell_type": "markdown",
   "metadata": {
    "_cell_guid": "15929103-a93b-4d08-a372-068f6dfe095d",
    "_uuid": "96f5d34c-8c52-46f8-a74d-7689ab94862f"
   },
   "source": [
    "The reason q=4 was used is becaused the data will be divided according to the values that .desctibe() show you (min, 25%, 50%, 75%, max)"
   ]
  },
  {
   "cell_type": "code",
   "execution_count": 41,
   "metadata": {
    "_cell_guid": "60516c18-2eb1-4632-b424-8f0639d073c2",
    "_uuid": "c1af53fd-c03e-4d7e-ae7e-9b35484e3668"
   },
   "outputs": [
    {
     "data": {
      "text/plain": [
       "<seaborn.axisgrid.FacetGrid at 0x7f74198c6890>"
      ]
     },
     "execution_count": 41,
     "metadata": {},
     "output_type": "execute_result"
    },
    {
     "data": {
      "image/png": "[encoded data removed]",
      "text/plain": [
       "<Figure size 432x144 with 1 Axes>"
      ]
     },
     "metadata": {
      "needs_background": "light"
     },
     "output_type": "display_data"
    }
   ],
   "source": [
    "sns.catplot(x=\"Fare\", data=train_data, kind=\"count\", height=2, aspect=3)"
   ]
  },
  {
   "cell_type": "code",
   "execution_count": 42,
   "metadata": {},
   "outputs": [
    {
     "data": {
      "text/plain": [
       "<seaborn.axisgrid.FacetGrid at 0x7f74198f6350>"
      ]
     },
     "execution_count": 42,
     "metadata": {},
     "output_type": "execute_result"
    },
    {
     "data": {
      "image/png": "[encoded data removed]",
      "text/plain": [
       "<Figure size 432x144 with 1 Axes>"
      ]
     },
     "metadata": {
      "needs_background": "light"
     },
     "output_type": "display_data"
    }
   ],
   "source": [
    "sns.catplot(x=\"Fare\", data=test_data, kind=\"count\", height=2, aspect=3)"
   ]
  },
  {
   "cell_type": "code",
   "execution_count": 43,
   "metadata": {},
   "outputs": [
    {
     "data": {
      "text/plain": [
       "0                                Braund, Mr. Owen Harris\n",
       "1      Cumings, Mrs. John Bradley (Florence Briggs Th...\n",
       "2                                 Heikkinen, Miss. Laina\n",
       "3           Futrelle, Mrs. Jacques Heath (Lily May Peel)\n",
       "4                               Allen, Mr. William Henry\n",
       "                             ...                        \n",
       "886                                Montvila, Rev. Juozas\n",
       "887                         Graham, Miss. Margaret Edith\n",
       "888             Johnston, Miss. Catherine Helen \"Carrie\"\n",
       "889                                Behr, Mr. Karl Howell\n",
       "890                                  Dooley, Mr. Patrick\n",
       "Name: Name, Length: 891, dtype: object"
      ]
     },
     "execution_count": 43,
     "metadata": {},
     "output_type": "execute_result"
    }
   ],
   "source": [
    "train_data[\"Name\"]"
   ]
  },
  {
   "cell_type": "markdown",
   "metadata": {},
   "source": [
    "At the beginning I started with the assumption that the Name feature does not serve useful since every individual has a unique name. What is interesting here is that names have titles. These titles can be useful for the predictions."
   ]
  },
  {
   "cell_type": "code",
   "execution_count": 44,
   "metadata": {},
   "outputs": [],
   "source": [
    "train_data[\"Name\"]=train_data[\"Name\"].apply(lambda s: s.split(', ')[1].split('.')[0])\n",
    "test_data[\"Name\"]=test_data[\"Name\"].apply(lambda s: s.split(', ')[1].split('.')[0])"
   ]
  },
  {
   "cell_type": "code",
   "execution_count": 45,
   "metadata": {},
   "outputs": [
    {
     "data": {
      "text/plain": [
       "array(['Mr', 'Mrs', 'Miss', 'Master', 'Don', 'Rev', 'Dr', 'Mme', 'Ms',\n",
       "       'Major', 'Lady', 'Sir', 'Mlle', 'Col', 'Capt', 'the Countess',\n",
       "       'Jonkheer'], dtype=object)"
      ]
     },
     "execution_count": 45,
     "metadata": {},
     "output_type": "execute_result"
    }
   ],
   "source": [
    "train_data[\"Name\"].unique()"
   ]
  },
  {
   "cell_type": "code",
   "execution_count": 46,
   "metadata": {},
   "outputs": [
    {
     "data": {
      "text/plain": [
       "array(['Mr', 'Mrs', 'Miss', 'Master', 'Ms', 'Col', 'Rev', 'Dr', 'Dona'],\n",
       "      dtype=object)"
      ]
     },
     "execution_count": 46,
     "metadata": {},
     "output_type": "execute_result"
    }
   ],
   "source": [
    "test_data[\"Name\"].unique()"
   ]
  },
  {
   "cell_type": "code",
   "execution_count": 47,
   "metadata": {},
   "outputs": [
    {
     "data": {
      "text/plain": [
       "Mr              517\n",
       "Miss            182\n",
       "Mrs             125\n",
       "Master           40\n",
       "Dr                7\n",
       "Rev               6\n",
       "Col               2\n",
       "Mlle              2\n",
       "Major             2\n",
       "Jonkheer          1\n",
       "Mme               1\n",
       "Sir               1\n",
       "Don               1\n",
       "Lady              1\n",
       "Ms                1\n",
       "the Countess      1\n",
       "Capt              1\n",
       "Name: Name, dtype: int64"
      ]
     },
     "execution_count": 47,
     "metadata": {},
     "output_type": "execute_result"
    }
   ],
   "source": [
    "train_data[\"Name\"].value_counts()"
   ]
  },
  {
   "cell_type": "code",
   "execution_count": 48,
   "metadata": {},
   "outputs": [
    {
     "data": {
      "text/plain": [
       "Mr        240\n",
       "Miss       78\n",
       "Mrs        72\n",
       "Master     21\n",
       "Col         2\n",
       "Rev         2\n",
       "Dr          1\n",
       "Ms          1\n",
       "Dona        1\n",
       "Name: Name, dtype: int64"
      ]
     },
     "execution_count": 48,
     "metadata": {},
     "output_type": "execute_result"
    }
   ],
   "source": [
    "test_data[\"Name\"].value_counts()"
   ]
  },
  {
   "cell_type": "code",
   "execution_count": 49,
   "metadata": {},
   "outputs": [],
   "source": [
    "train_data[\"Name\"]=train_data[\"Name\"].replace([\"Ms\", \"Mlle\"], \"Miss\")\n",
    "train_data[\"Name\"]=train_data[\"Name\"].replace([\"Sir\"], \"Mr\")\n",
    "train_data[\"Name\"]=train_data[\"Name\"].replace([\"Mme\"], \"Mrs\")\n",
    "train_data[\"Name\"]=train_data[\"Name\"].replace([\"Dr\", \"Rev\", \"Col\", \"Major\", \"Capt\", \"Master\", \n",
    "                                             \"Lady\", \"the Countess\", \"Don\", \"Dona\", \"Jonkheer\"], \"Other\")"
   ]
  },
  {
   "cell_type": "code",
   "execution_count": 50,
   "metadata": {},
   "outputs": [],
   "source": [
    "test_data[\"Name\"]=test_data[\"Name\"].replace([\"Ms\", \"Mlle\"], \"Miss\")\n",
    "test_data[\"Name\"]=test_data[\"Name\"].replace([\"Sir\"], \"Mr\")\n",
    "test_data[\"Name\"]=test_data[\"Name\"].replace([\"Mme\"], \"Mrs\")\n",
    "test_data[\"Name\"]=test_data[\"Name\"].replace([\"Dr\", \"Rev\", \"Col\", \"Major\", \"Capt\", \"Master\", \n",
    "                                             \"Lady\", \"the Countess\", \"Don\", \"Dona\", \"Jonkheer\"], \"Other\")"
   ]
  },
  {
   "cell_type": "code",
   "execution_count": 51,
   "metadata": {},
   "outputs": [
    {
     "data": {
      "text/plain": [
       "array(['Mr', 'Mrs', 'Miss', 'Other'], dtype=object)"
      ]
     },
     "execution_count": 51,
     "metadata": {},
     "output_type": "execute_result"
    }
   ],
   "source": [
    "train_data[\"Name\"].unique()"
   ]
  },
  {
   "cell_type": "code",
   "execution_count": 52,
   "metadata": {},
   "outputs": [
    {
     "data": {
      "text/plain": [
       "Mr       518\n",
       "Miss     185\n",
       "Mrs      126\n",
       "Other     62\n",
       "Name: Name, dtype: int64"
      ]
     },
     "execution_count": 52,
     "metadata": {},
     "output_type": "execute_result"
    }
   ],
   "source": [
    "train_data[\"Name\"].value_counts()"
   ]
  },
  {
   "cell_type": "code",
   "execution_count": 53,
   "metadata": {},
   "outputs": [
    {
     "data": {
      "text/plain": [
       "Mr       240\n",
       "Miss      79\n",
       "Mrs       72\n",
       "Other     27\n",
       "Name: Name, dtype: int64"
      ]
     },
     "execution_count": 53,
     "metadata": {},
     "output_type": "execute_result"
    }
   ],
   "source": [
    "test_data[\"Name\"].value_counts()"
   ]
  },
  {
   "cell_type": "code",
   "execution_count": 54,
   "metadata": {},
   "outputs": [
    {
     "data": {
      "text/plain": [
       "<seaborn.axisgrid.FacetGrid at 0x7f74240b2890>"
      ]
     },
     "execution_count": 54,
     "metadata": {},
     "output_type": "execute_result"
    },
    {
     "data": {
      "image/png": "[encoded data removed]",
      "text/plain": [
       "<Figure size 411.875x360 with 1 Axes>"
      ]
     },
     "metadata": {
      "needs_background": "light"
     },
     "output_type": "display_data"
    }
   ],
   "source": [
    "sns.catplot(x=\"Name\", hue=\"Survived\", kind=\"count\", data=train_data)"
   ]
  },
  {
   "cell_type": "code",
   "execution_count": 55,
   "metadata": {},
   "outputs": [
    {
     "data": {
      "text/plain": [
       "count             204\n",
       "unique            147\n",
       "top       C23 C25 C27\n",
       "freq                4\n",
       "Name: Cabin, dtype: object"
      ]
     },
     "execution_count": 55,
     "metadata": {},
     "output_type": "execute_result"
    }
   ],
   "source": [
    "train_data.Cabin.describe()"
   ]
  },
  {
   "cell_type": "code",
   "execution_count": 56,
   "metadata": {},
   "outputs": [
    {
     "data": {
      "text/plain": [
       "array([nan, 'C85', 'C123', 'E46', 'G6', 'C103', 'D56', 'A6',\n",
       "       'C23 C25 C27', 'B78', 'D33', 'B30', 'C52', 'B28', 'C83', 'F33',\n",
       "       'F G73', 'E31', 'A5', 'D10 D12', 'D26', 'C110', 'B58 B60', 'E101',\n",
       "       'F E69', 'D47', 'B86', 'F2', 'C2', 'E33', 'B19', 'A7', 'C49', 'F4',\n",
       "       'A32', 'B4', 'B80', 'A31', 'D36', 'D15', 'C93', 'C78', 'D35',\n",
       "       'C87', 'B77', 'E67', 'B94', 'C125', 'C99', 'C118', 'D7', 'A19',\n",
       "       'B49', 'D', 'C22 C26', 'C106', 'C65', 'E36', 'C54',\n",
       "       'B57 B59 B63 B66', 'C7', 'E34', 'C32', 'B18', 'C124', 'C91', 'E40',\n",
       "       'T', 'C128', 'D37', 'B35', 'E50', 'C82', 'B96 B98', 'E10', 'E44',\n",
       "       'A34', 'C104', 'C111', 'C92', 'E38', 'D21', 'E12', 'E63', 'A14',\n",
       "       'B37', 'C30', 'D20', 'B79', 'E25', 'D46', 'B73', 'C95', 'B38',\n",
       "       'B39', 'B22', 'C86', 'C70', 'A16', 'C101', 'C68', 'A10', 'E68',\n",
       "       'B41', 'A20', 'D19', 'D50', 'D9', 'A23', 'B50', 'A26', 'D48',\n",
       "       'E58', 'C126', 'B71', 'B51 B53 B55', 'D49', 'B5', 'B20', 'F G63',\n",
       "       'C62 C64', 'E24', 'C90', 'C45', 'E8', 'B101', 'D45', 'C46', 'D30',\n",
       "       'E121', 'D11', 'E77', 'F38', 'B3', 'D6', 'B82 B84', 'D17', 'A36',\n",
       "       'B102', 'B69', 'E49', 'C47', 'D28', 'E17', 'A24', 'C50', 'B42',\n",
       "       'C148'], dtype=object)"
      ]
     },
     "execution_count": 56,
     "metadata": {},
     "output_type": "execute_result"
    }
   ],
   "source": [
    "train_data.Cabin.unique()"
   ]
  },
  {
   "cell_type": "markdown",
   "metadata": {},
   "source": [
    "At first I began with the idea of dropping the Cabin feature, as it has a lot of missing values. However, since I will be using Xgboost in my model, which is known to be good with dealing with missing values, I will make use of this feature. \n",
    "\n",
    "Instead of having a Cabin feature, a Deck feature will be created. Cabins were located on different decks on the ship. These decks were: A, B, C, D, E, F, G, T.\n",
    "\n",
    "\"Unknown\" will designate NaN values."
   ]
  },
  {
   "cell_type": "code",
   "execution_count": 57,
   "metadata": {},
   "outputs": [],
   "source": [
    "train_data[\"Cabin\"]=train_data[\"Cabin\"].fillna(\"Unknown\")"
   ]
  },
  {
   "cell_type": "code",
   "execution_count": 58,
   "metadata": {},
   "outputs": [],
   "source": [
    "test_data[\"Cabin\"]=test_data[\"Cabin\"].fillna(\"Unknown\")"
   ]
  },
  {
   "cell_type": "code",
   "execution_count": 59,
   "metadata": {},
   "outputs": [
    {
     "data": {
      "text/plain": [
       "array(['Unknown', 'C85', 'C123', 'E46', 'G6', 'C103', 'D56', 'A6',\n",
       "       'C23 C25 C27', 'B78', 'D33', 'B30', 'C52', 'B28', 'C83', 'F33',\n",
       "       'F G73', 'E31', 'A5', 'D10 D12', 'D26', 'C110', 'B58 B60', 'E101',\n",
       "       'F E69', 'D47', 'B86', 'F2', 'C2', 'E33', 'B19', 'A7', 'C49', 'F4',\n",
       "       'A32', 'B4', 'B80', 'A31', 'D36', 'D15', 'C93', 'C78', 'D35',\n",
       "       'C87', 'B77', 'E67', 'B94', 'C125', 'C99', 'C118', 'D7', 'A19',\n",
       "       'B49', 'D', 'C22 C26', 'C106', 'C65', 'E36', 'C54',\n",
       "       'B57 B59 B63 B66', 'C7', 'E34', 'C32', 'B18', 'C124', 'C91', 'E40',\n",
       "       'T', 'C128', 'D37', 'B35', 'E50', 'C82', 'B96 B98', 'E10', 'E44',\n",
       "       'A34', 'C104', 'C111', 'C92', 'E38', 'D21', 'E12', 'E63', 'A14',\n",
       "       'B37', 'C30', 'D20', 'B79', 'E25', 'D46', 'B73', 'C95', 'B38',\n",
       "       'B39', 'B22', 'C86', 'C70', 'A16', 'C101', 'C68', 'A10', 'E68',\n",
       "       'B41', 'A20', 'D19', 'D50', 'D9', 'A23', 'B50', 'A26', 'D48',\n",
       "       'E58', 'C126', 'B71', 'B51 B53 B55', 'D49', 'B5', 'B20', 'F G63',\n",
       "       'C62 C64', 'E24', 'C90', 'C45', 'E8', 'B101', 'D45', 'C46', 'D30',\n",
       "       'E121', 'D11', 'E77', 'F38', 'B3', 'D6', 'B82 B84', 'D17', 'A36',\n",
       "       'B102', 'B69', 'E49', 'C47', 'D28', 'E17', 'A24', 'C50', 'B42',\n",
       "       'C148'], dtype=object)"
      ]
     },
     "execution_count": 59,
     "metadata": {},
     "output_type": "execute_result"
    }
   ],
   "source": [
    "train_data[\"Cabin\"].unique()"
   ]
  },
  {
   "cell_type": "code",
   "execution_count": 60,
   "metadata": {},
   "outputs": [
    {
     "data": {
      "text/plain": [
       "array(['Unknown', 'B45', 'E31', 'B57 B59 B63 B66', 'B36', 'A21', 'C78',\n",
       "       'D34', 'D19', 'A9', 'D15', 'C31', 'C23 C25 C27', 'F G63', 'B61',\n",
       "       'C53', 'D43', 'C130', 'C132', 'C101', 'C55 C57', 'B71', 'C46',\n",
       "       'C116', 'F', 'A29', 'G6', 'C6', 'C28', 'C51', 'E46', 'C54', 'C97',\n",
       "       'D22', 'B10', 'F4', 'E45', 'E52', 'D30', 'B58 B60', 'E34',\n",
       "       'C62 C64', 'A11', 'B11', 'C80', 'F33', 'C85', 'D37', 'C86', 'D21',\n",
       "       'C89', 'F E46', 'A34', 'D', 'B26', 'C22 C26', 'B69', 'C32', 'B78',\n",
       "       'F E57', 'F2', 'A18', 'C106', 'B51 B53 B55', 'D10 D12', 'E60',\n",
       "       'E50', 'E39 E41', 'B52 B54 B56', 'C39', 'B24', 'D28', 'B41', 'C7',\n",
       "       'D40', 'D38', 'C105'], dtype=object)"
      ]
     },
     "execution_count": 60,
     "metadata": {},
     "output_type": "execute_result"
    }
   ],
   "source": [
    "test_data[\"Cabin\"].unique()"
   ]
  },
  {
   "cell_type": "code",
   "execution_count": 61,
   "metadata": {},
   "outputs": [],
   "source": [
    "train_data[\"Deck\"]=train_data[\"Cabin\"].str.replace(\"([0-9\\s])+\",\"\")"
   ]
  },
  {
   "cell_type": "code",
   "execution_count": 62,
   "metadata": {},
   "outputs": [],
   "source": [
    "test_data[\"Deck\"]=test_data[\"Cabin\"].str.replace(\"([0-9\\s])+\",\"\")"
   ]
  },
  {
   "cell_type": "code",
   "execution_count": 63,
   "metadata": {},
   "outputs": [
    {
     "data": {
      "text/plain": [
       "Unknown    327\n",
       "C           29\n",
       "D           12\n",
       "B           12\n",
       "E            8\n",
       "A            7\n",
       "F            5\n",
       "CC           4\n",
       "BBBB         3\n",
       "FE           2\n",
       "CCC          2\n",
       "BBB          2\n",
       "BB           1\n",
       "DD           1\n",
       "EE           1\n",
       "G            1\n",
       "FG           1\n",
       "Name: Deck, dtype: int64"
      ]
     },
     "execution_count": 63,
     "metadata": {},
     "output_type": "execute_result"
    }
   ],
   "source": [
    "test_data[\"Deck\"].value_counts()"
   ]
  },
  {
   "cell_type": "code",
   "execution_count": 64,
   "metadata": {},
   "outputs": [
    {
     "data": {
      "text/plain": [
       "Unknown    687\n",
       "C           51\n",
       "B           36\n",
       "D           32\n",
       "E           32\n",
       "A           15\n",
       "F            9\n",
       "BB           7\n",
       "G            4\n",
       "CCC          4\n",
       "CC           4\n",
       "FG           3\n",
       "BBB          2\n",
       "BBBB         2\n",
       "T            1\n",
       "FE           1\n",
       "DD           1\n",
       "Name: Deck, dtype: int64"
      ]
     },
     "execution_count": 64,
     "metadata": {},
     "output_type": "execute_result"
    }
   ],
   "source": [
    "train_data[\"Deck\"].value_counts()"
   ]
  },
  {
   "cell_type": "markdown",
   "metadata": {},
   "source": [
    "The data reveals that some passangers had more than one cabin. Some of them were on the same deck and some were on different decks. To deal with this, a new feature will be created that indicates the total number of cabins per passenger. If the passenger's cabin is unknown it will give 0. For decks which consitute of more than one letter, the first letter will be taken."
   ]
  },
  {
   "cell_type": "code",
   "execution_count": 65,
   "metadata": {},
   "outputs": [],
   "source": [
    "def total_cabins(row):\n",
    "    if row.Deck == \"Unknown\":\n",
    "        row[\"TotalCab\"] = 0\n",
    "    elif len(row.Deck) > 1:\n",
    "        row[\"TotalCab\"] = len(row.Deck)\n",
    "    else:\n",
    "        row[\"TotalCab\"] = 1\n",
    "    return row\n",
    "\n",
    "train_data=train_data.apply(total_cabins, axis=1)\n",
    "test_data=test_data.apply(total_cabins,axis=1)\n",
    "        "
   ]
  },
  {
   "cell_type": "code",
   "execution_count": 66,
   "metadata": {},
   "outputs": [
    {
     "data": {
      "text/plain": [
       "0    687\n",
       "1    180\n",
       "2     16\n",
       "3      6\n",
       "4      2\n",
       "Name: TotalCab, dtype: int64"
      ]
     },
     "execution_count": 66,
     "metadata": {},
     "output_type": "execute_result"
    }
   ],
   "source": [
    "train_data[\"TotalCab\"].value_counts()"
   ]
  },
  {
   "cell_type": "code",
   "execution_count": 67,
   "metadata": {},
   "outputs": [
    {
     "data": {
      "text/plain": [
       "0    327\n",
       "1     74\n",
       "2     10\n",
       "3      4\n",
       "4      3\n",
       "Name: TotalCab, dtype: int64"
      ]
     },
     "execution_count": 67,
     "metadata": {},
     "output_type": "execute_result"
    }
   ],
   "source": [
    "test_data[\"TotalCab\"].value_counts()"
   ]
  },
  {
   "cell_type": "code",
   "execution_count": 68,
   "metadata": {},
   "outputs": [],
   "source": [
    "train_data[\"Deck\"]=train_data[\"Deck\"].apply(lambda s: s[0] if s != \"Unknown\" else s)"
   ]
  },
  {
   "cell_type": "code",
   "execution_count": 69,
   "metadata": {},
   "outputs": [],
   "source": [
    "test_data[\"Deck\"]=test_data[\"Deck\"].apply(lambda s: s[0] if s != \"Unknown\" else s)"
   ]
  },
  {
   "cell_type": "code",
   "execution_count": 70,
   "metadata": {},
   "outputs": [
    {
     "data": {
      "text/plain": [
       "Unknown    327\n",
       "C           35\n",
       "B           18\n",
       "D           13\n",
       "E            9\n",
       "F            8\n",
       "A            7\n",
       "G            1\n",
       "Name: Deck, dtype: int64"
      ]
     },
     "execution_count": 70,
     "metadata": {},
     "output_type": "execute_result"
    }
   ],
   "source": [
    "test_data[\"Deck\"].value_counts()"
   ]
  },
  {
   "cell_type": "code",
   "execution_count": 71,
   "metadata": {},
   "outputs": [
    {
     "data": {
      "text/plain": [
       "Unknown    687\n",
       "C           59\n",
       "B           47\n",
       "D           33\n",
       "E           32\n",
       "A           15\n",
       "F           13\n",
       "G            4\n",
       "T            1\n",
       "Name: Deck, dtype: int64"
      ]
     },
     "execution_count": 71,
     "metadata": {},
     "output_type": "execute_result"
    }
   ],
   "source": [
    "train_data[\"Deck\"].value_counts()"
   ]
  },
  {
   "cell_type": "code",
   "execution_count": 72,
   "metadata": {},
   "outputs": [],
   "source": [
    "train_data=train_data.drop([\"Survived\", \"Cabin\", \"Ticket\"], axis=1)\n",
    "test_data=test_data.drop([\"Cabin\", \"Ticket\"], axis=1)"
   ]
  },
  {
   "cell_type": "code",
   "execution_count": 73,
   "metadata": {
    "_cell_guid": "8029b609-d360-4354-bbdf-04fee57d1957",
    "_uuid": "2d363abf-9adf-44be-bebe-cda7fff30bea"
   },
   "outputs": [
    {
     "name": "stdout",
     "output_type": "stream",
     "text": [
      "<class 'pandas.core.frame.DataFrame'>\n",
      "RangeIndex: 891 entries, 0 to 890\n",
      "Data columns (total 10 columns):\n",
      " #   Column       Non-Null Count  Dtype \n",
      "---  ------       --------------  ----- \n",
      " 0   PassengerId  891 non-null    int64 \n",
      " 1   Pclass       891 non-null    int64 \n",
      " 2   Name         891 non-null    object\n",
      " 3   Sex          891 non-null    object\n",
      " 4   Age          891 non-null    object\n",
      " 5   Fare         891 non-null    object\n",
      " 6   Embarked     891 non-null    object\n",
      " 7   FamMembs     891 non-null    object\n",
      " 8   Deck         891 non-null    object\n",
      " 9   TotalCab     891 non-null    int64 \n",
      "dtypes: int64(3), object(7)\n",
      "memory usage: 69.7+ KB\n"
     ]
    }
   ],
   "source": [
    "train_data.info()"
   ]
  },
  {
   "cell_type": "code",
   "execution_count": 74,
   "metadata": {
    "_cell_guid": "a802c4b8-aa40-4de8-a23b-77f33885f784",
    "_uuid": "5e2a05cf-1d29-45f7-8bfc-e7d84fca1fa7"
   },
   "outputs": [
    {
     "name": "stdout",
     "output_type": "stream",
     "text": [
      "<class 'pandas.core.frame.DataFrame'>\n",
      "RangeIndex: 418 entries, 0 to 417\n",
      "Data columns (total 10 columns):\n",
      " #   Column       Non-Null Count  Dtype \n",
      "---  ------       --------------  ----- \n",
      " 0   PassengerId  418 non-null    int64 \n",
      " 1   Pclass       418 non-null    int64 \n",
      " 2   Name         418 non-null    object\n",
      " 3   Sex          418 non-null    object\n",
      " 4   Age          418 non-null    object\n",
      " 5   Fare         418 non-null    object\n",
      " 6   Embarked     418 non-null    object\n",
      " 7   FamMembs     418 non-null    object\n",
      " 8   Deck         418 non-null    object\n",
      " 9   TotalCab     418 non-null    int64 \n",
      "dtypes: int64(3), object(7)\n",
      "memory usage: 32.8+ KB\n"
     ]
    }
   ],
   "source": [
    "test_data.info()"
   ]
  },
  {
   "cell_type": "markdown",
   "metadata": {},
   "source": [
    "# Deal with categorical values"
   ]
  },
  {
   "cell_type": "code",
   "execution_count": 75,
   "metadata": {
    "_cell_guid": "daf94cb0-5b60-402b-87b9-131cb44aece0",
    "_uuid": "f08b453d-bb87-4381-a806-c2cf5b910b70"
   },
   "outputs": [],
   "source": [
    "\n",
    "from sklearn.preprocessing import OneHotEncoder\n",
    "\n",
    "OHE = OneHotEncoder(handle_unknown='ignore', sparse=False)\n",
    "\n",
    "features = [\"Pclass\", \"Name\", \"Sex\", \"Age\", \"Fare\", \"Embarked\", \"FamMembs\", \"Deck\", \"TotalCab\"]\n",
    "OHE_train_cols = pd.DataFrame(OHE.fit_transform(train_data[features]))\n",
    "OHE_test_cols = pd.DataFrame(OHE.transform(test_data[features]))\n",
    "\n",
    "OHE_train_cols.index = train_data.index\n",
    "OHE_test_cols.index = test_data.index\n",
    "\n",
    "num_train=train_data.drop(features, axis=1)\n",
    "num_test=test_data.drop(features, axis=1)\n",
    "\n",
    "train_data = pd.concat([num_train, OHE_train_cols], axis=1)\n",
    "test_data = pd.concat([num_test, OHE_test_cols], axis=1)\n"
   ]
  },
  {
   "cell_type": "code",
   "execution_count": 76,
   "metadata": {
    "_cell_guid": "b49b0774-4dab-4c27-950c-dac756aa15de",
    "_uuid": "6f712f23-da60-4655-854a-93214283d32d"
   },
   "outputs": [
    {
     "name": "stdout",
     "output_type": "stream",
     "text": [
      "(891, 42) (418, 42)\n"
     ]
    }
   ],
   "source": [
    "print(train_data.shape, test_data.shape)"
   ]
  },
  {
   "cell_type": "markdown",
   "metadata": {},
   "source": [
    "# XGBoost Parameter Tuning & RandomizedSearchCV"
   ]
  },
  {
   "cell_type": "code",
   "execution_count": 77,
   "metadata": {},
   "outputs": [
    {
     "name": "stdout",
     "output_type": "stream",
     "text": [
      "Fitting 5 folds for each of 50 candidates, totalling 250 fits\n"
     ]
    },
    {
     "name": "stderr",
     "output_type": "stream",
     "text": [
      "[Parallel(n_jobs=-1)]: Using backend LokyBackend with 4 concurrent workers.\n",
      "[Parallel(n_jobs=-1)]: Done  42 tasks      | elapsed:   13.1s\n",
      "[Parallel(n_jobs=-1)]: Done 192 tasks      | elapsed:  1.2min\n",
      "[Parallel(n_jobs=-1)]: Done 250 out of 250 | elapsed:  1.4min finished\n"
     ]
    },
    {
     "data": {
      "text/plain": [
       "RandomizedSearchCV(cv=None, error_score=nan,\n",
       "                   estimator=XGBClassifier(base_score=None, booster=None,\n",
       "                                           colsample_bylevel=None,\n",
       "                                           colsample_bynode=None,\n",
       "                                           colsample_bytree=None, gamma=None,\n",
       "                                           gpu_id=None, importance_type='gain',\n",
       "                                           interaction_constraints=None,\n",
       "                                           learning_rate=None,\n",
       "                                           max_delta_step=None, max_depth=None,\n",
       "                                           min_child_weight=None, missing=nan,\n",
       "                                           monotone_constraints=Non...\n",
       "                                           validate_parameters=False,\n",
       "                                           verbosity=None),\n",
       "                   iid='deprecated', n_iter=50, n_jobs=-1,\n",
       "                   param_distributions={'colsample_bytree': [0.4, 0.6, 0.8],\n",
       "                                        'gamma': [0, 0.5, 1],\n",
       "                                        'learning_rate': [0.01, 0.05, 0.1],\n",
       "                                        'max_depth': [5, 7, 9],\n",
       "                                        'n_estimators': [200, 500, 1000],\n",
       "                                        'subsample': [0.8, 0.9, 1]},\n",
       "                   pre_dispatch='2*n_jobs', random_state=None, refit=True,\n",
       "                   return_train_score=False, scoring=None, verbose=1)"
      ]
     },
     "execution_count": 77,
     "metadata": {},
     "output_type": "execute_result"
    }
   ],
   "source": [
    "from xgboost import XGBClassifier\n",
    "from sklearn.model_selection import RandomizedSearchCV\n",
    "xgb=XGBClassifier(objective='reg:logistic')\n",
    "\n",
    "params={\n",
    "    'n_estimators': [200, 500, 1000],\n",
    "    'learning_rate': [0.01, 0.05, 0.1],\n",
    "    'max_depth': [5, 7, 9],\n",
    "    'colsample_bytree': [ 0.4, 0.6, 0.8],\n",
    "    'subsample': [0.8, 0.9, 1],\n",
    "    'gamma': [0, 0.5, 1]\n",
    "}\n",
    "\n",
    "clf=RandomizedSearchCV(xgb, param_distributions=params, n_iter=50, n_jobs=-1, verbose=1)\n",
    "clf.fit(train_data, y)\n",
    "\n"
   ]
  },
  {
   "cell_type": "code",
   "execution_count": 78,
   "metadata": {},
   "outputs": [
    {
     "name": "stdout",
     "output_type": "stream",
     "text": [
      "Best score:  0.8181909484652564\n",
      "Best parameters:  {'subsample': 1, 'n_estimators': 200, 'max_depth': 9, 'learning_rate': 0.01, 'gamma': 0, 'colsample_bytree': 0.4}\n"
     ]
    }
   ],
   "source": [
    "score=clf.best_score_\n",
    "params=clf.best_params_\n",
    "print(\"Best score: \",score)\n",
    "print(\"Best parameters: \", params)"
   ]
  }
 ],
 "metadata": {
  "kernelspec": {
   "display_name": "Python 3",
   "language": "python",
   "name": "python3"
  },
  "language_info": {
   "codemirror_mode": {
    "name": "ipython",
    "version": 3
   },
   "file_extension": ".py",
   "mimetype": "text/x-python",
   "name": "python",
   "nbconvert_exporter": "python",
   "pygments_lexer": "ipython3",
   "version": "3.7.6-final"
  }
 },
 "nbformat": 4,
 "nbformat_minor": 4
}